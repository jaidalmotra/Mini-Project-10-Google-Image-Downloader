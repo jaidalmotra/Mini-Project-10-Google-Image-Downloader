{
  "nbformat": 4,
  "nbformat_minor": 0,
  "metadata": {
    "colab": {
      "provenance": [],
      "authorship_tag": "ABX9TyNZ4P++rgMWHsuKyu9743pl",
      "include_colab_link": true
    },
    "kernelspec": {
      "name": "python3",
      "display_name": "Python 3"
    },
    "language_info": {
      "name": "python"
    }
  },
  "cells": [
    {
      "cell_type": "markdown",
      "metadata": {
        "id": "view-in-github",
        "colab_type": "text"
      },
      "source": [
        "<a href=\"https://colab.research.google.com/github/jaidalmotra/Mini-Project-10-Google-Image-Downloader/blob/main/Mini_Project_10_Google_Image_Downloader_.ipynb\" target=\"_parent\"><img src=\"https://colab.research.google.com/assets/colab-badge.svg\" alt=\"Open In Colab\"/></a>"
      ]
    },
    {
      "cell_type": "code",
      "execution_count": null,
      "metadata": {
        "id": "AAM-ENdifuXB"
      },
      "outputs": [],
      "source": [
        "pip install google_images_download"
      ]
    },
    {
      "cell_type": "code",
      "source": [
        "from google_images_download import google_images_download\n"
      ],
      "metadata": {
        "id": "3e2UbyYWgVjI"
      },
      "execution_count": null,
      "outputs": []
    },
    {
      "cell_type": "code",
      "source": [
        "\n",
        "# creating object\n",
        "response = google_images_download.googleimagesdownload()\n",
        "\n",
        "search_queries = [\n",
        "    'cat',\n",
        "    'dog',\n",
        "    'flower'\n",
        "]\n",
        "\n",
        "\n",
        "\n",
        "def downloadimages(query):\n",
        "    # keywords is the search query\n",
        "    # format is the image file format\n",
        "    # limit is the number of images to be downloaded\n",
        "    # print urls is to print the image file url\n",
        "    # size is the image size which can\n",
        "    # be specified manually (\"large, medium, icon\")\n",
        "    # aspect ratio denotes the height width ratio\n",
        "    # of images to download. (\"tall, square, wide, panoramic\")\n",
        "    arguments = {\"keywords\": query,\n",
        "                 \"format\": \"jpg\",\n",
        "                 \"limit\":4,\n",
        "                 \"print_urls\":True,\n",
        "                 \"size\": \"medium\",\n",
        "                 \"aspect_ratio\":\"panoramic\"}\n",
        "    try:\n",
        "        response.download(arguments)\n",
        "\n",
        "    # Handling File NotFound Error\n",
        "    except FileNotFoundError:\n",
        "        arguments = {\"keywords\": query,\n",
        "                     \"format\": \"jpg\",\n",
        "                     \"limit\":4,\n",
        "                     \"print_urls\":True,\n",
        "                     \"size\": \"medium\"}\n",
        "\n",
        "        # Providing arguments for the searched query\n",
        "        try:\n",
        "            # Downloading the photos based\n",
        "            # on the given arguments\n",
        "            response.download(arguments)\n",
        "        except:\n",
        "            pass\n",
        "\n",
        "# Driver Code\n",
        "for query in search_queries:\n",
        "    downloadimages(query)\n",
        "    print()"
      ],
      "metadata": {
        "id": "qpqCSOgQgBRl"
      },
      "execution_count": null,
      "outputs": []
    },
    {
      "cell_type": "markdown",
      "source": [
        "If the above code snippet does not provide he imaged hen use the below code snippet"
      ],
      "metadata": {
        "id": "IL-1AcUshwLn"
      }
    },
    {
      "cell_type": "code",
      "source": [
        "import requests\n",
        "from bs4 import BeautifulSoup\n",
        "import urllib.parse\n",
        "import urllib.request\n",
        "import os\n",
        "\n",
        "# Function to download images\n",
        "def download_images(query, num_images):\n",
        "    # Format the query for the URL\n",
        "    query = urllib.parse.quote_plus(query)\n",
        "\n",
        "    # Prepare the search URL\n",
        "    url = f\"https://www.google.com/search?q={query}&tbm=isch\"\n",
        "\n",
        "    # Send a GET request to the search URL\n",
        "    response = requests.get(url)\n",
        "\n",
        "    # Parse the HTML content using BeautifulSoup\n",
        "    soup = BeautifulSoup(response.content, \"html.parser\")\n",
        "\n",
        "    # Find all image elements in the HTML\n",
        "    image_elements = soup.find_all(\"img\")\n",
        "\n",
        "    # Create a directory for the downloaded images\n",
        "    os.makedirs(query, exist_ok=True)\n",
        "\n",
        "    # Download the images\n",
        "    count = 0\n",
        "    for i, image in enumerate(image_elements):\n",
        "        if count >= num_images:\n",
        "            break\n",
        "        try:\n",
        "            image_url = image[\"src\"]\n",
        "\n",
        "            # Handle relative URLs\n",
        "            if image_url.startswith(\"/\"):\n",
        "                image_url = \"https://www.google.com\" + image_url\n",
        "\n",
        "            image_name = f\"{query}/{query}_{count}.jpg\"\n",
        "            urllib.request.urlretrieve(image_url, image_name)\n",
        "            print(f\"Downloaded image: {image_name}\")\n",
        "            count += 1\n",
        "        except Exception as e:\n",
        "            print(f\"Error downloading image {i + 1}: {str(e)}\")\n",
        "\n",
        "# Example usage\n",
        "download_images(\"cat\", 5)\n"
      ],
      "metadata": {
        "id": "4oFFRjWRhjMG"
      },
      "execution_count": null,
      "outputs": []
    }
  ]
}